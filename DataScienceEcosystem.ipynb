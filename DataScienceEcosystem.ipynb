{
 "cells": [
  {
   "cell_type": "markdown",
   "id": "2ff1a1e8-6bdc-42ad-a964-99a6208ffb7e",
   "metadata": {},
   "source": [
    "# Data Science Tools and Ecosystem"
   ]
  },
  {
   "cell_type": "markdown",
   "id": "ef2cdca2-5573-4d5e-9520-66f4af907e3c",
   "metadata": {},
   "source": [
    "In this notebook, Data Science Tools and Ecosystem are summarized."
   ]
  },
  {
   "cell_type": "markdown",
   "id": "089f467f-5a64-4a49-a3b9-f63186689c47",
   "metadata": {},
   "source": [
    "**Objectives**:\n",
    "- List the popular languages for Data Science.\n",
    "- List commonly used libraries used by Data Scientists.\n",
    "- List examples of commercial and cloud-based data science tools.\n",
    "- List examples of open-source tools used in data science.\n",
    "- Describe how to use the notebooks in JupyterLab.\n"
   ]
  },
  {
   "cell_type": "markdown",
   "id": "77dc437d-d402-4849-a21c-54c1b11554f7",
   "metadata": {},
   "source": [
    "Some of the popular languages that Data Scientists use are:\n",
    "1. **R** Language\n",
    "2. **Python** \n",
    "3. **SQL**"
   ]
  },
  {
   "cell_type": "markdown",
   "id": "abb505c2-cbb0-4c9a-8e3d-5a876ba305b1",
   "metadata": {},
   "source": [
    "Some of the commonly used libraries used by Data Scientists include:\n",
    "1. **Numpy** (Arrays and Matrices)\n",
    "2. **Pandas** (Data Structure and Tools)\n",
    "3. **Matplotlib** (Plotting)\n",
    "4. **Scikit Learn** (Machine Learning)\n",
    "5. **Keras** (Deep learning and neural networks)\n",
    "6. **Tensorflow** (Pure Deep Learning)\n",
    "7. **PyTorch** (Deep Learning)"
   ]
  },
  {
   "cell_type": "markdown",
   "id": "e2cdfc3e-114d-4076-a495-5667a7d93038",
   "metadata": {},
   "source": [
    "|Data Science Tools|\n",
    "|------------------|\n",
    "|Jupyter Notebooks |\n",
    "|R Studio          |\n",
    "|Apache Zeppelin   |"
   ]
  },
  {
   "cell_type": "markdown",
   "id": "056207f0-4337-49ca-bda5-fa8a74478e37",
   "metadata": {},
   "source": [
    "### Below are a few examples of evaluating arithmetic expressions in Python"
   ]
  },
  {
   "cell_type": "code",
   "execution_count": 1,
   "id": "1ecbbd60-75e4-42fe-814d-df07ff92478f",
   "metadata": {
    "tags": []
   },
   "outputs": [
    {
     "data": {
      "text/plain": [
       "17"
      ]
     },
     "execution_count": 1,
     "metadata": {},
     "output_type": "execute_result"
    }
   ],
   "source": [
    "# This a simple arithmetic expresion to multiply then add integers\n",
    "(3*4)+5"
   ]
  },
  {
   "cell_type": "code",
   "execution_count": 2,
   "id": "53cd4574-715d-4b20-b38f-69e886af7b71",
   "metadata": {
    "tags": []
   },
   "outputs": [
    {
     "data": {
      "text/plain": [
       "3.3333333333333335"
      ]
     },
     "execution_count": 2,
     "metadata": {},
     "output_type": "execute_result"
    }
   ],
   "source": [
    "# This will convert 200 minuter to hours by dividing by 60\n",
    "200/60"
   ]
  },
  {
   "cell_type": "markdown",
   "id": "8ad9a473-4ea2-47b3-ac58-40a7cd96bbbb",
   "metadata": {},
   "source": [
    "## Author\n",
    "Ananth Rao"
   ]
  }
 ],
 "metadata": {
  "kernelspec": {
   "display_name": "Python",
   "language": "python",
   "name": "conda-env-python-py"
  },
  "language_info": {
   "codemirror_mode": {
    "name": "ipython",
    "version": 3
   },
   "file_extension": ".py",
   "mimetype": "text/x-python",
   "name": "python",
   "nbconvert_exporter": "python",
   "pygments_lexer": "ipython3",
   "version": "3.7.12"
  }
 },
 "nbformat": 4,
 "nbformat_minor": 5
}
